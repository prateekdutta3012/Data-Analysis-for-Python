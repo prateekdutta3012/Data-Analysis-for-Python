{
  "cells": [
    {
      "cell_type": "markdown",
      "id": "e4cd8cbc",
      "metadata": {
        "id": "e4cd8cbc"
      },
      "source": [
        "# Pandas Series exercises"
      ]
    },
    {
      "cell_type": "code",
      "execution_count": null,
      "id": "aa2053ae",
      "metadata": {
        "colab": {
          "base_uri": "https://localhost:8080/"
        },
        "id": "aa2053ae",
        "outputId": "cb8db613-3970-4700-eae6-6af44326ff03"
      },
      "outputs": [
        {
          "output_type": "stream",
          "name": "stdout",
          "text": [
            "1.3.5\n"
          ]
        }
      ],
      "source": [
        "# Import the numpy package under the name np\n",
        "import numpy as np\n",
        "\n",
        "# Import the pandas package under the name pd\n",
        "import pandas as pd\n",
        "\n",
        "# Print the pandas version and the configuration\n",
        "print(pd.__version__)"
      ]
    },
    {
      "cell_type": "markdown",
      "id": "afedf919",
      "metadata": {
        "id": "afedf919"
      },
      "source": [
        "## Series creation"
      ]
    },
    {
      "cell_type": "markdown",
      "id": "8c5ea4d2",
      "metadata": {
        "id": "8c5ea4d2"
      },
      "source": [
        "### Create an empty pandas Series"
      ]
    },
    {
      "cell_type": "code",
      "execution_count": null,
      "id": "0b9b6659",
      "metadata": {
        "colab": {
          "base_uri": "https://localhost:8080/"
        },
        "id": "0b9b6659",
        "outputId": "3befb242-bc38-4e42-8b3a-eb9ef15c6291"
      },
      "outputs": [
        {
          "output_type": "stream",
          "name": "stderr",
          "text": [
            "/usr/local/lib/python3.7/dist-packages/ipykernel_launcher.py:1: DeprecationWarning: The default dtype for empty Series will be 'object' instead of 'float64' in a future version. Specify a dtype explicitly to silence this warning.\n",
            "  \"\"\"Entry point for launching an IPython kernel.\n"
          ]
        },
        {
          "output_type": "execute_result",
          "data": {
            "text/plain": [
              "Series([], dtype: float64)"
            ]
          },
          "metadata": {},
          "execution_count": 2
        }
      ],
      "source": [
        "pd.Series()"
      ]
    },
    {
      "cell_type": "markdown",
      "id": "e879b53f",
      "metadata": {
        "id": "e879b53f"
      },
      "source": [
        "### Given the X python list convert it to an Y pandas Series"
      ]
    },
    {
      "cell_type": "code",
      "execution_count": null,
      "id": "194a1e11",
      "metadata": {
        "colab": {
          "base_uri": "https://localhost:8080/"
        },
        "id": "194a1e11",
        "outputId": "be3deea5-f8b0-484a-9e14-efb8bd2a2544"
      },
      "outputs": [
        {
          "output_type": "stream",
          "name": "stdout",
          "text": [
            "['A', 'B', 'C'] <class 'list'>\n",
            "0    A\n",
            "1    B\n",
            "2    C\n",
            "dtype: object <class 'pandas.core.series.Series'>\n"
          ]
        }
      ],
      "source": [
        "X = ['A','B','C']\n",
        "print(X, type(X))\n",
        "Y = pd.Series(X)\n",
        "print(Y, type(Y)) # different type"
      ]
    },
    {
      "cell_type": "markdown",
      "id": "f671bcff",
      "metadata": {
        "id": "f671bcff"
      },
      "source": [
        "### Given the X pandas Series, name it 'My letters'"
      ]
    },
    {
      "cell_type": "code",
      "execution_count": null,
      "id": "cfd09b95",
      "metadata": {
        "colab": {
          "base_uri": "https://localhost:8080/"
        },
        "id": "cfd09b95",
        "outputId": "00486f82-22d7-4992-dacb-8ca7bf2eacfc"
      },
      "outputs": [
        {
          "output_type": "execute_result",
          "data": {
            "text/plain": [
              "0    A\n",
              "1    B\n",
              "2    C\n",
              "Name: My letters, dtype: object"
            ]
          },
          "metadata": {},
          "execution_count": 4
        }
      ],
      "source": [
        "X = pd.Series(['A','B','C'])\n",
        "X.name = 'My letters'\n",
        "X"
      ]
    },
    {
      "cell_type": "markdown",
      "id": "8e6387a7",
      "metadata": {
        "id": "8e6387a7"
      },
      "source": [
        "### Given the X pandas Series, show its values"
      ]
    },
    {
      "cell_type": "code",
      "execution_count": null,
      "id": "3514914d",
      "metadata": {
        "colab": {
          "base_uri": "https://localhost:8080/"
        },
        "id": "3514914d",
        "outputId": "74ad9e44-bc51-49e1-d226-a0962018a3be"
      },
      "outputs": [
        {
          "output_type": "execute_result",
          "data": {
            "text/plain": [
              "0    A\n",
              "1    B\n",
              "2    C\n",
              "Name: My letters, dtype: object"
            ]
          },
          "metadata": {},
          "execution_count": 5
        }
      ],
      "source": [
        "X = pd.Series(['A','B','C'])\n",
        "X.name = 'My letters'\n",
        "X"
      ]
    },
    {
      "cell_type": "markdown",
      "id": "f94dbdbe",
      "metadata": {
        "id": "f94dbdbe"
      },
      "source": [
        "## Series indexation"
      ]
    },
    {
      "cell_type": "markdown",
      "id": "4ac5ef7a",
      "metadata": {
        "id": "4ac5ef7a"
      },
      "source": [
        "### Assign index names to the given X pandas Series"
      ]
    },
    {
      "cell_type": "code",
      "execution_count": null,
      "id": "84738cb8",
      "metadata": {
        "colab": {
          "base_uri": "https://localhost:8080/"
        },
        "id": "84738cb8",
        "outputId": "421be9ec-30a7-4ca8-8db8-99940ddde83e"
      },
      "outputs": [
        {
          "output_type": "execute_result",
          "data": {
            "text/plain": [
              "first     A\n",
              "second    B\n",
              "third     C\n",
              "dtype: object"
            ]
          },
          "metadata": {},
          "execution_count": 6
        }
      ],
      "source": [
        "X = pd.Series(['A','B','C'])\n",
        "index_names = ['first', 'second', 'third']\n",
        "X.index = index_names\n",
        "X"
      ]
    },
    {
      "cell_type": "markdown",
      "id": "202c9936",
      "metadata": {
        "id": "202c9936"
      },
      "source": [
        "###  Given the X pandas Series, show its first element"
      ]
    },
    {
      "cell_type": "code",
      "execution_count": null,
      "id": "d73de78a",
      "metadata": {
        "colab": {
          "base_uri": "https://localhost:8080/",
          "height": 36
        },
        "id": "d73de78a",
        "outputId": "78401057-cf70-4944-f33a-f3b6025ab50b"
      },
      "outputs": [
        {
          "output_type": "execute_result",
          "data": {
            "text/plain": [
              "'A'"
            ],
            "application/vnd.google.colaboratory.intrinsic+json": {
              "type": "string"
            }
          },
          "metadata": {},
          "execution_count": 7
        }
      ],
      "source": [
        "X = pd.Series(['A','B','C'], index=['first', 'second', 'third'])\n",
        "#X[0] # by position\n",
        "#X.iloc[0] # by positionGiven the X pandas Series, show its last element\n",
        "X['first'] # by index"
      ]
    },
    {
      "cell_type": "markdown",
      "id": "41b12642",
      "metadata": {
        "id": "41b12642"
      },
      "source": [
        "###  Given the X pandas Series, show its last element"
      ]
    },
    {
      "cell_type": "code",
      "execution_count": null,
      "id": "ca4b905d",
      "metadata": {
        "colab": {
          "base_uri": "https://localhost:8080/",
          "height": 36
        },
        "id": "ca4b905d",
        "outputId": "b86e26a2-29f1-443e-eedb-8fcaf19b13a7"
      },
      "outputs": [
        {
          "output_type": "execute_result",
          "data": {
            "text/plain": [
              "'C'"
            ],
            "application/vnd.google.colaboratory.intrinsic+json": {
              "type": "string"
            }
          },
          "metadata": {},
          "execution_count": 8
        }
      ],
      "source": [
        "X = pd.Series(['A','B','C'], index=['first', 'second', 'third'])\n",
        "#X[-1] # by position\n",
        "#X.iloc[-1] # by position\n",
        "X['third'] # by index"
      ]
    },
    {
      "cell_type": "markdown",
      "id": "8f570170",
      "metadata": {
        "id": "8f570170"
      },
      "source": [
        "### Given the X pandas Series, show all middle elements"
      ]
    },
    {
      "cell_type": "code",
      "execution_count": null,
      "id": "9fb110a2",
      "metadata": {
        "colab": {
          "base_uri": "https://localhost:8080/"
        },
        "id": "9fb110a2",
        "outputId": "26a95182-cbc7-4ef8-fadf-c256d3f6769f"
      },
      "outputs": [
        {
          "output_type": "execute_result",
          "data": {
            "text/plain": [
              "second    B\n",
              "third     C\n",
              "forth     D\n",
              "dtype: object"
            ]
          },
          "metadata": {},
          "execution_count": 9
        }
      ],
      "source": [
        "X = pd.Series(['A','B','C','D','E'],\n",
        "              index=['first','second','third','forth','fifth'])\n",
        "#X[['second', 'third', 'forth']]\n",
        "#X.iloc[1:-1] # by position\n",
        "X[1:-1] # by position"
      ]
    },
    {
      "cell_type": "markdown",
      "id": "cae2864c",
      "metadata": {
        "id": "cae2864c"
      },
      "source": [
        "### Given the X pandas Series, show the elements in reverse position "
      ]
    },
    {
      "cell_type": "code",
      "execution_count": null,
      "id": "68c067d8",
      "metadata": {
        "colab": {
          "base_uri": "https://localhost:8080/"
        },
        "id": "68c067d8",
        "outputId": "ae2e9ff4-ed37-4366-bc88-c8494b46c7de"
      },
      "outputs": [
        {
          "output_type": "execute_result",
          "data": {
            "text/plain": [
              "fifth     E\n",
              "forth     D\n",
              "third     C\n",
              "second    B\n",
              "first     A\n",
              "dtype: object"
            ]
          },
          "metadata": {},
          "execution_count": 10
        }
      ],
      "source": [
        "X = pd.Series(['A','B','C','D','E'],\n",
        "              index=['first','second','third','forth','fifth'])\n",
        "#X.iloc[::-1]\n",
        "X[::-1]"
      ]
    },
    {
      "cell_type": "markdown",
      "id": "79cd147a",
      "metadata": {
        "id": "79cd147a"
      },
      "source": [
        "### Given the X pandas Series, show the first and last elements# "
      ]
    },
    {
      "cell_type": "code",
      "execution_count": null,
      "id": "50b4822d",
      "metadata": {
        "colab": {
          "base_uri": "https://localhost:8080/"
        },
        "id": "50b4822d",
        "outputId": "de77a7a5-5e80-4b25-b7c2-33ae587a55d5"
      },
      "outputs": [
        {
          "output_type": "execute_result",
          "data": {
            "text/plain": [
              "first    A\n",
              "fifth    E\n",
              "dtype: object"
            ]
          },
          "metadata": {},
          "execution_count": 11
        }
      ],
      "source": [
        "X = pd.Series(['A','B','C','D','E'],\n",
        "              index=['first','second','third','forth','fifth'])\n",
        "#X[['first', 'fifth']]\n",
        "#X.iloc[[0, -1]]\n",
        "X[[0, -1]]"
      ]
    },
    {
      "cell_type": "markdown",
      "id": "fbb25ab7",
      "metadata": {
        "id": "fbb25ab7"
      },
      "source": [
        "## Series manipulation"
      ]
    },
    {
      "cell_type": "markdown",
      "id": "1e359d5c",
      "metadata": {
        "id": "1e359d5c"
      },
      "source": [
        "### Convert the given integer pandas Series to float"
      ]
    },
    {
      "cell_type": "code",
      "execution_count": null,
      "id": "cfa4fb0e",
      "metadata": {
        "colab": {
          "base_uri": "https://localhost:8080/"
        },
        "id": "cfa4fb0e",
        "outputId": "14e6555e-51b3-4723-df17-a24f6b37d3cd"
      },
      "outputs": [
        {
          "output_type": "stream",
          "name": "stderr",
          "text": [
            "/usr/local/lib/python3.7/dist-packages/ipykernel_launcher.py:4: DeprecationWarning: `np.float` is a deprecated alias for the builtin `float`. To silence this warning, use `float` by itself. Doing this will not modify any behavior and is safe. If you specifically wanted the numpy scalar type, use `np.float64` here.\n",
            "Deprecated in NumPy 1.20; for more details and guidance: https://numpy.org/devdocs/release/1.20.0-notes.html#deprecations\n",
            "  after removing the cwd from sys.path.\n"
          ]
        },
        {
          "output_type": "execute_result",
          "data": {
            "text/plain": [
              "first     1.0\n",
              "second    2.0\n",
              "third     3.0\n",
              "forth     4.0\n",
              "fifth     5.0\n",
              "dtype: float64"
            ]
          },
          "metadata": {},
          "execution_count": 12
        }
      ],
      "source": [
        "X = pd.Series([1,2,3,4,5],\n",
        "              index=['first','second','third','forth','fifth'])\n",
        "\n",
        "pd.Series(X, dtype=np.float)"
      ]
    },
    {
      "cell_type": "code",
      "execution_count": null,
      "id": "7c3ae00c",
      "metadata": {
        "id": "7c3ae00c"
      },
      "outputs": [],
      "source": []
    },
    {
      "cell_type": "markdown",
      "id": "8608e730",
      "metadata": {
        "id": "8608e730"
      },
      "source": [
        "### Reverse the given pandas Series (first element becomes last)"
      ]
    },
    {
      "cell_type": "code",
      "execution_count": null,
      "id": "2bc326f5",
      "metadata": {
        "colab": {
          "base_uri": "https://localhost:8080/"
        },
        "id": "2bc326f5",
        "outputId": "cb378ed4-7358-46ad-be14-60a5ee268378"
      },
      "outputs": [
        {
          "output_type": "execute_result",
          "data": {
            "text/plain": [
              "fifth     5\n",
              "forth     4\n",
              "third     3\n",
              "second    2\n",
              "first     1\n",
              "dtype: int64"
            ]
          },
          "metadata": {},
          "execution_count": 13
        }
      ],
      "source": [
        "X = pd.Series([1,2,3,4,5],\n",
        "              index=['first','second','third','forth','fifth'])\n",
        "X[::-1]"
      ]
    },
    {
      "cell_type": "markdown",
      "id": "73985de9",
      "metadata": {
        "id": "73985de9"
      },
      "source": [
        "### Order (sort) the given pandas Series"
      ]
    },
    {
      "cell_type": "code",
      "execution_count": null,
      "id": "cee1d957",
      "metadata": {
        "colab": {
          "base_uri": "https://localhost:8080/"
        },
        "id": "cee1d957",
        "outputId": "bf2e9466-44ef-48e5-cbe7-34b0d48180d6"
      },
      "outputs": [
        {
          "output_type": "execute_result",
          "data": {
            "text/plain": [
              "first     1\n",
              "second    2\n",
              "third     3\n",
              "forth     4\n",
              "fifth     5\n",
              "dtype: int64"
            ]
          },
          "metadata": {},
          "execution_count": 14
        }
      ],
      "source": [
        "X = pd.Series([4,2,5,1,3],\n",
        "              index=['forth','second','fifth','first','third'])\n",
        "X = X.sort_values()\n",
        "X"
      ]
    },
    {
      "cell_type": "markdown",
      "id": "7e0bcd9f",
      "metadata": {
        "id": "7e0bcd9f"
      },
      "source": [
        "### Given the X pandas Series, set the fifth element equal to 10"
      ]
    },
    {
      "cell_type": "code",
      "execution_count": null,
      "id": "efadfc3d",
      "metadata": {
        "colab": {
          "base_uri": "https://localhost:8080/"
        },
        "id": "efadfc3d",
        "outputId": "58d080ee-9d6c-4f37-edc0-d35debae24d0"
      },
      "outputs": [
        {
          "output_type": "execute_result",
          "data": {
            "text/plain": [
              "A     1\n",
              "B     2\n",
              "C     3\n",
              "D     4\n",
              "E    10\n",
              "dtype: int64"
            ]
          },
          "metadata": {},
          "execution_count": 15
        }
      ],
      "source": [
        "X = pd.Series([1,2,3,4,5],\n",
        "              index=['A','B','C','D','E'])\n",
        "X[4] = 10\n",
        "X"
      ]
    },
    {
      "cell_type": "markdown",
      "id": "1c1091b6",
      "metadata": {
        "id": "1c1091b6"
      },
      "source": [
        "### Given the X pandas Series, change all the middle elements to 0"
      ]
    },
    {
      "cell_type": "code",
      "execution_count": null,
      "id": "0caa0221",
      "metadata": {
        "colab": {
          "base_uri": "https://localhost:8080/"
        },
        "id": "0caa0221",
        "outputId": "0de4bd5f-96d6-4eab-a5de-9808551e42e5"
      },
      "outputs": [
        {
          "output_type": "execute_result",
          "data": {
            "text/plain": [
              "A    1\n",
              "B    0\n",
              "C    0\n",
              "D    0\n",
              "E    5\n",
              "dtype: int64"
            ]
          },
          "metadata": {},
          "execution_count": 16
        }
      ],
      "source": [
        "X = pd.Series([1,2,3,4,5],\n",
        "              index=['A','B','C','D','E'])\n",
        "X[1:-1] = 0\n",
        "X"
      ]
    },
    {
      "cell_type": "markdown",
      "id": "e41cfc6f",
      "metadata": {
        "id": "e41cfc6f"
      },
      "source": [
        "### Given the X pandas Series, add 5 to every element"
      ]
    },
    {
      "cell_type": "code",
      "execution_count": null,
      "id": "10076bdb",
      "metadata": {
        "colab": {
          "base_uri": "https://localhost:8080/"
        },
        "id": "10076bdb",
        "outputId": "54363772-c0c0-445f-c17a-3ebb857b6b4d"
      },
      "outputs": [
        {
          "output_type": "execute_result",
          "data": {
            "text/plain": [
              "0     6\n",
              "1     7\n",
              "2     8\n",
              "3     9\n",
              "4    10\n",
              "dtype: int64"
            ]
          },
          "metadata": {},
          "execution_count": 17
        }
      ],
      "source": [
        "X = pd.Series([1,2,3,4,5])\n",
        "X + 5"
      ]
    },
    {
      "cell_type": "markdown",
      "id": "886dedb5",
      "metadata": {
        "id": "886dedb5"
      },
      "source": [
        "## Series boolean arrays (also called masks)"
      ]
    },
    {
      "cell_type": "markdown",
      "id": "8355c0d8",
      "metadata": {
        "id": "8355c0d8"
      },
      "source": [
        "### Given the X pandas Series, make a mask showing negative elements"
      ]
    },
    {
      "cell_type": "code",
      "execution_count": null,
      "id": "192835cc",
      "metadata": {
        "colab": {
          "base_uri": "https://localhost:8080/"
        },
        "id": "192835cc",
        "outputId": "fefac6ab-fce6-46c1-b40d-3d8a8d967815"
      },
      "outputs": [
        {
          "output_type": "execute_result",
          "data": {
            "text/plain": [
              "0     True\n",
              "1    False\n",
              "2     True\n",
              "3     True\n",
              "4    False\n",
              "5    False\n",
              "6     True\n",
              "7     True\n",
              "8     True\n",
              "9    False\n",
              "dtype: bool"
            ]
          },
          "metadata": {},
          "execution_count": 18
        }
      ],
      "source": [
        "X = pd.Series([-1,2,0,-4,5,6,0,0,-9,10])\n",
        "mask = X <= 0\n",
        "mask"
      ]
    },
    {
      "cell_type": "markdown",
      "id": "95d4ee8b",
      "metadata": {
        "id": "95d4ee8b"
      },
      "source": [
        "### Given the X pandas Series, get the negative elements"
      ]
    },
    {
      "cell_type": "code",
      "execution_count": null,
      "id": "3e4ca8da",
      "metadata": {
        "colab": {
          "base_uri": "https://localhost:8080/"
        },
        "id": "3e4ca8da",
        "outputId": "5f202275-9e2b-4774-8518-13e8974d6875"
      },
      "outputs": [
        {
          "output_type": "execute_result",
          "data": {
            "text/plain": [
              "0   -1\n",
              "2    0\n",
              "3   -4\n",
              "6    0\n",
              "7    0\n",
              "8   -9\n",
              "dtype: int64"
            ]
          },
          "metadata": {},
          "execution_count": 19
        }
      ],
      "source": [
        "X = pd.Series([-1,2,0,-4,5,6,0,0,-9,10])\n",
        "mask = X <= 0\n",
        "X[mask]"
      ]
    },
    {
      "cell_type": "markdown",
      "id": "f1c3d65e",
      "metadata": {
        "id": "f1c3d65e"
      },
      "source": [
        "### Given the X pandas Series, get numbers higher than 5"
      ]
    },
    {
      "cell_type": "code",
      "execution_count": null,
      "id": "7109448b",
      "metadata": {
        "colab": {
          "base_uri": "https://localhost:8080/"
        },
        "id": "7109448b",
        "outputId": "6f342fdd-9d00-4c72-dd9d-6b034f5ed89c"
      },
      "outputs": [
        {
          "output_type": "execute_result",
          "data": {
            "text/plain": [
              "5     6\n",
              "9    10\n",
              "dtype: int64"
            ]
          },
          "metadata": {},
          "execution_count": 20
        }
      ],
      "source": [
        "X = pd.Series([-1,2,0,-4,5,6,0,0,-9,10])\n",
        "mask = X > 5\n",
        "X[mask]"
      ]
    },
    {
      "cell_type": "markdown",
      "id": "8a2338a1",
      "metadata": {
        "id": "8a2338a1"
      },
      "source": [
        "### Given the X pandas Series, get numbers higher than the elements mean"
      ]
    },
    {
      "cell_type": "code",
      "execution_count": null,
      "id": "da6c9c3d",
      "metadata": {
        "colab": {
          "base_uri": "https://localhost:8080/"
        },
        "id": "da6c9c3d",
        "outputId": "2143400b-0863-4d0d-da85-379eb3d7f44c"
      },
      "outputs": [
        {
          "output_type": "execute_result",
          "data": {
            "text/plain": [
              "1     2\n",
              "4     5\n",
              "5     6\n",
              "9    10\n",
              "dtype: int64"
            ]
          },
          "metadata": {},
          "execution_count": 21
        }
      ],
      "source": [
        "X = pd.Series([-1,2,0,-4,5,6,0,0,-9,10])\n",
        "mask = X > X.mean()\n",
        "X[mask]"
      ]
    },
    {
      "cell_type": "markdown",
      "id": "156fe9ea",
      "metadata": {
        "id": "156fe9ea"
      },
      "source": [
        "### Given the X pandas Series, get numbers equal to 2 or 10"
      ]
    },
    {
      "cell_type": "code",
      "execution_count": null,
      "id": "5d8c33df",
      "metadata": {
        "colab": {
          "base_uri": "https://localhost:8080/"
        },
        "id": "5d8c33df",
        "outputId": "3c41c9ce-142e-4be8-eb76-8bc2831596bf"
      },
      "outputs": [
        {
          "output_type": "execute_result",
          "data": {
            "text/plain": [
              "1     2\n",
              "9    10\n",
              "dtype: int64"
            ]
          },
          "metadata": {},
          "execution_count": 22
        }
      ],
      "source": [
        "X = pd.Series([-1,2,0,-4,5,6,0,0,-9,10])\n",
        "mask = (X == 2) | (X == 10)\n",
        "X[mask]"
      ]
    },
    {
      "cell_type": "markdown",
      "id": "6c45d65f",
      "metadata": {
        "id": "6c45d65f"
      },
      "source": [
        "## Logic functions"
      ]
    },
    {
      "cell_type": "markdown",
      "id": "07d37681",
      "metadata": {
        "id": "07d37681"
      },
      "source": [
        "### Given the X pandas Series, return True if none of its elements is zero"
      ]
    },
    {
      "cell_type": "code",
      "execution_count": null,
      "id": "4c7a96d8",
      "metadata": {
        "colab": {
          "base_uri": "https://localhost:8080/"
        },
        "id": "4c7a96d8",
        "outputId": "b8b6765a-8137-4194-dc2c-eb7d202c18e8"
      },
      "outputs": [
        {
          "output_type": "execute_result",
          "data": {
            "text/plain": [
              "False"
            ]
          },
          "metadata": {},
          "execution_count": 23
        }
      ],
      "source": [
        "X = pd.Series([-1,2,0,-4,5,6,0,0,-9,10])\n",
        "X.all()"
      ]
    },
    {
      "cell_type": "markdown",
      "id": "3b664f5f",
      "metadata": {
        "id": "3b664f5f"
      },
      "source": [
        "### Given the X pandas Series, return True if any of its elements is zero"
      ]
    },
    {
      "cell_type": "code",
      "execution_count": null,
      "id": "64c2ba83",
      "metadata": {
        "colab": {
          "base_uri": "https://localhost:8080/"
        },
        "id": "64c2ba83",
        "outputId": "87f29b46-5de6-4c51-f548-3db900434ed8"
      },
      "outputs": [
        {
          "output_type": "execute_result",
          "data": {
            "text/plain": [
              "True"
            ]
          },
          "metadata": {},
          "execution_count": 24
        }
      ],
      "source": [
        "X = pd.Series([-1,2,0,-4,5,6,0,0,-9,10])\n",
        "X.any()"
      ]
    },
    {
      "cell_type": "markdown",
      "id": "e01499d5",
      "metadata": {
        "id": "e01499d5"
      },
      "source": [
        "## Summary statistics"
      ]
    },
    {
      "cell_type": "markdown",
      "id": "38e196b8",
      "metadata": {
        "id": "38e196b8"
      },
      "source": [
        "### Given the X pandas Series, show the sum of its elements"
      ]
    },
    {
      "cell_type": "code",
      "execution_count": null,
      "id": "2e848142",
      "metadata": {
        "colab": {
          "base_uri": "https://localhost:8080/"
        },
        "id": "2e848142",
        "outputId": "c6886fef-a394-42a4-9ee9-5ef487b92729"
      },
      "outputs": [
        {
          "output_type": "execute_result",
          "data": {
            "text/plain": [
              "43"
            ]
          },
          "metadata": {},
          "execution_count": 25
        }
      ],
      "source": [
        "X = pd.Series([3,5,6,7,2,3,4,9,4])\n",
        "#np.sum(X)\n",
        "X.sum()"
      ]
    },
    {
      "cell_type": "markdown",
      "id": "f2297757",
      "metadata": {
        "id": "f2297757"
      },
      "source": [
        "### Given the X pandas Series, show the mean value of its elements"
      ]
    },
    {
      "cell_type": "code",
      "execution_count": null,
      "id": "8ec42649",
      "metadata": {
        "colab": {
          "base_uri": "https://localhost:8080/"
        },
        "id": "8ec42649",
        "outputId": "98977abf-cade-490a-b62a-bf838d2fe162"
      },
      "outputs": [
        {
          "output_type": "execute_result",
          "data": {
            "text/plain": [
              "3.7"
            ]
          },
          "metadata": {},
          "execution_count": 26
        }
      ],
      "source": [
        "X = pd.Series([1,2,0,4,5,6,0,0,9,10])\n",
        "#np.mean(X)\n",
        "X.mean()"
      ]
    },
    {
      "cell_type": "markdown",
      "id": "b500c3e7",
      "metadata": {
        "id": "b500c3e7"
      },
      "source": [
        "### Given the X pandas Series, show the max value of its elements"
      ]
    },
    {
      "cell_type": "markdown",
      "id": "29db1f53",
      "metadata": {
        "id": "29db1f53"
      },
      "source": [
        "X = pd.Series([1,2,0,4,5,6,0,0,9,10])\n",
        "\n",
        "#np.max(X)\n",
        "X.max()"
      ]
    }
  ],
  "metadata": {
    "kernelspec": {
      "display_name": "Python 3 (ipykernel)",
      "language": "python",
      "name": "python3"
    },
    "language_info": {
      "codemirror_mode": {
        "name": "ipython",
        "version": 3
      },
      "file_extension": ".py",
      "mimetype": "text/x-python",
      "name": "python",
      "nbconvert_exporter": "python",
      "pygments_lexer": "ipython3",
      "version": "3.10.5"
    },
    "colab": {
      "provenance": []
    }
  },
  "nbformat": 4,
  "nbformat_minor": 5
}